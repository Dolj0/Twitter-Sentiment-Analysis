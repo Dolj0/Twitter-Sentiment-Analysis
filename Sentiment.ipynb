{
  "nbformat": 4,
  "nbformat_minor": 0,
  "metadata": {
    "colab": {
      "name": "Untitled2.ipynb",
      "provenance": [],
      "collapsed_sections": [],
      "authorship_tag": "ABX9TyMIBL8vcR/dryoZ1PxH+i/l",
      "include_colab_link": true
    },
    "kernelspec": {
      "name": "python3",
      "display_name": "Python 3"
    },
    "language_info": {
      "name": "python"
    }
  },
  "cells": [
    {
      "cell_type": "markdown",
      "metadata": {
        "id": "view-in-github",
        "colab_type": "text"
      },
      "source": [
        "<a href=\"https://colab.research.google.com/github/Dolj0/Twitter-Sentiment-Analysis/blob/main/Sentiment.ipynb\" target=\"_parent\"><img src=\"https://colab.research.google.com/assets/colab-badge.svg\" alt=\"Open In Colab\"/></a>"
      ]
    },
    {
      "cell_type": "code",
      "metadata": {
        "id": "6f2t60ur5qHt"
      },
      "source": [
        "import csv\n",
        "import time\n",
        "import numpy as np\n",
        "import re\n",
        "import tweepy\n",
        "!pip install --upgrade git+https://github.com/tweepy/tweepy@master\n",
        "\n",
        "def auth_credentials():\n",
        "  #authenticates and creates tweepy api object\n",
        "  consumerKey = #keys obtained from twitter developer account\n",
        "  consumerSecret = #keys obtained from twitter developer account\n",
        "  accessToken = #keys obtained from twitter developer account\n",
        "  accessTokenSecret = #keys obtained from twitter developer account\n",
        "\n",
        "  # Create the authentication object\n",
        "  authenticate = tweepy.OAuthHandler(consumerKey, consumerSecret)\n",
        "  authenticate.set_access_token(accessToken, accessTokenSecret)\n",
        "  api = tweepy.API(authenticate, wait_on_rate_limit = True)\n",
        "  print(\"authcomplete\")\n",
        "  return api\n",
        "\n",
        "def cleanTxt(text):\n",
        "  #cleans tweets using\n",
        "  text = re.sub(r'@[A-Za-z0-9]', '', text) # Removed @mentions\n",
        "  text = re.sub(r'#', '', text) #Removing # symbol\n",
        "  text = re.sub(r'RT[\\s]+', '', text) # Removing reTweets\n",
        "  text = re.sub(r'https?:\\/\\/\\S+', '', text) # Remove hyperlink\n",
        "  if type(text) == str:\n",
        "    if text == \"\":\n",
        "      return \"Neutral\"\n",
        "    else:\n",
        "      return text\n",
        "  else:\n",
        "    return \"Neutral\"\n",
        "\n",
        "def extraction(api):\n",
        "  #Creates and opens file\n",
        "  file_name = 'newfile.csv'\n",
        "  csvFile = open(file_name, 'a')\n",
        "  csvWriter = csv.writer(csvFile)\n",
        "  csvWriter.writerow([\"Date\", \"Tweets\"])\n",
        "\n",
        "  #Extracts tweets\n",
        "  dateTo=202103240000\n",
        "  while True:\n",
        "    try:  #exception handling for queery request limit\n",
        "      c = tweepy.Cursor(api.search_30_day, label='30DaySearch',\n",
        "                                  query='DJIA', #Or, for Amazon search: query='AMZN OR Amazon -rainforest' \n",
        "                                  fromDate=202103200000,\n",
        "                                  toDate=dateTo, maxResults=100).items(100)\n",
        "      for tweet in c:\n",
        "        print(tweet.created_at, cleanTxt(tweet.text))\n",
        "        csvWriter.writerow([tweet.created_at, cleanTxt(tweet.text)]) #writes to csv\n",
        "        created = str(tweet.created_at) #converts date time to string\n",
        "        dateToStr = created[0:10].replace(\"-\",\"\")+\"0000\" # saves last extracted date\n",
        "        dateTo = int(dateToStr)#updates To Date\n",
        "    except tweepy.TweepError as e:\n",
        "      time.sleep(60*15)\n",
        "      break       \n",
        "        \n",
        "def main():\n",
        "    extraction(auth_credentials())\n",
        "    \n",
        "if __name__ == \"__main__\":\n",
        "    main()"
      ],
      "execution_count": null,
      "outputs": []
    },
    {
      "cell_type": "code",
      "metadata": {
        "id": "b-8ZPOnpZfL3"
      },
      "source": [
        "import pandas as pd\n",
        "from textblob import TextBlob\n",
        "import nltk\n",
        "\n",
        "def getSubjectivity(text):\n",
        "  #Returns subjectivity using pretrained textBlob algorithm\n",
        "  return TextBlob(text).sentiment.subjectivity\n",
        "\n",
        "def getPolarity(text):\n",
        "  #Returns polarity using pretrained textBlob algorithm\n",
        "  return TextBlob(text).sentiment.polarity\n",
        "\n",
        "def csv_to_dataFrame(fileName):\n",
        "  fileName = fileName\n",
        "  df = pd.read_csv (fileName)\n",
        "  return df\n",
        "\n",
        "def dataFrame_to_csv(df):\n",
        "  outputFileName = 'OutputData.csv'\n",
        "  csvFileOut = open(outputFileName,'a')\n",
        "  df.to_csv('/content/OutputData.csv')\n",
        "\n",
        "def main():\n",
        "  csvFile = 'newfile.csv'\n",
        "  df = csv_to_dataFrame(csvFile)\n",
        "  df['Subjectivity'] = df['Tweets'].apply(getSubjectivity)\n",
        "  df['Polarity'] = df['Tweets'].apply(getPolarity)\n",
        "  dataFrame_to_csv(df)\n",
        "    \n",
        "if __name__ == \"__main__\":\n",
        "    main()"
      ],
      "execution_count": null,
      "outputs": []
    }
  ]
}